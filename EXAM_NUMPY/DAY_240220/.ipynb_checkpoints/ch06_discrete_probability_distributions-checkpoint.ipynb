{
 "cells": [
  {
   "cell_type": "markdown",
   "source": [
    "# Chapter 06. 대표적인 이산형 확률분포"
   ],
   "metadata": {
    "collapsed": false
   },
   "id": "ed0e3e9055441046"
  },
  {
   "cell_type": "code",
   "outputs": [],
   "source": [
    "import numpy as np\n",
    "import matplotlib.pyplot as plt\n",
    "from scipy import stats\n",
    "\n",
    "%precision 3\n",
    "%matplotlib inline"
   ],
   "metadata": {
    "collapsed": false,
    "ExecuteTime": {
     "end_time": "2024-02-20T06:53:08.450373200Z",
     "start_time": "2024-02-20T06:53:07.026745500Z"
    }
   },
   "id": "b6e4b1f0584c4a4d",
   "execution_count": 1
  },
  {
   "cell_type": "code",
   "outputs": [],
   "source": [
    "# 그래프에서 선의 종류\n",
    "linestyles = ['-', '--', ':']\n",
    "\n",
    "def E(X, g=lambda x: x):\n",
    "    x_set, f = X    # 언패킹 (x_set : 확률변수가 취할 수 있는 값 집합, f : )\n",
    "    return np.sum([g(x_k) * f(x_k) for x_k in x_set])\n",
    "\n",
    "def V(X, g=lambda x: x):\n",
    "    x_set, f = X    # 언패킹\n",
    "    mean = E(X, g)  # 기대값 저장\n",
    "    return np.sum([(g(x_k) - mean)**2 * f(x_k) for x_k in x_set])\n",
    "\n",
    "def check_prob(X):\n",
    "    x_set, f = X\n",
    "    prob = np.array([f(x_k) for x_k in x_set])\n",
    "    assert np.all(prob >= 0), 'minus probability'\n",
    "    prob_sum = np.round(np.round(np.sum(prob), 6))\n",
    "    assert prob_sum == 1, f'sum of probability{prob_sum}'\n",
    "    print(f'expected value {E(X):.4}')\n",
    "    print(f'variance {(V(X)):.4}')\n",
    "\n",
    "def plot_prob(X):\n",
    "    x_set, f = X\n",
    "    prob = np.array([f(x_k) for x_k in x_set])\n",
    "    \n",
    "    fig = plt.figure(figsize=(10, 6))\n",
    "    ax = fig.add_subplot(111)\n",
    "    ax.patch.set_facecolor('white')\n",
    "    ax.patch.set_alpha(1)\n",
    "    ax.bar(x_set, prob, label='prob')\n",
    "    ax.vlines(E(X), 0, 1, label='mean', color='g')\n",
    "    ax.set_xticks(np.append(x_set, E(X)))\n",
    "    ax.set_ylim(0, prob.max()*1.2)\n",
    "    ax.legend()\n",
    "    \n",
    "    plt.show()"
   ],
   "metadata": {
    "collapsed": false,
    "ExecuteTime": {
     "end_time": "2024-02-20T14:34:32.167567600Z",
     "start_time": "2024-02-20T14:34:32.156866400Z"
    }
   },
   "id": "cc51e0a70b69cc44",
   "execution_count": 100
  },
  {
   "cell_type": "markdown",
   "source": [
    "## 6.1 베르누이 분포"
   ],
   "metadata": {
    "collapsed": false
   },
   "id": "cfa1e1c40424a7aa"
  },
  {
   "cell_type": "code",
   "outputs": [],
   "source": [
    "def Bern(p):\n",
    "    x_set = np.array([0, 1])\n",
    "    def f(x):\n",
    "        if x in x_set:\n",
    "            return p**x * (1-p)**(1-x)\n",
    "        else:\n",
    "            return 0\n",
    "    return x_set, f"
   ],
   "metadata": {
    "collapsed": false,
    "ExecuteTime": {
     "end_time": "2024-02-20T14:34:32.565056900Z",
     "start_time": "2024-02-20T14:34:32.556775400Z"
    }
   },
   "id": "57b9de6bb340b4ee",
   "execution_count": 101
  },
  {
   "cell_type": "code",
   "outputs": [],
   "source": [
    "# Bern(0.3) 을 따르는 확률변수 X 생성\n",
    "p = 0.3\n",
    "X = Bern(p)"
   ],
   "metadata": {
    "collapsed": false,
    "ExecuteTime": {
     "end_time": "2024-02-20T14:34:32.773737500Z",
     "start_time": "2024-02-20T14:34:32.764932300Z"
    }
   },
   "id": "b9fbfd57b733d4",
   "execution_count": 102
  },
  {
   "cell_type": "code",
   "outputs": [
    {
     "name": "stdout",
     "output_type": "stream",
     "text": [
      "expected value 0.3\n",
      "variance 0.21\n"
     ]
    }
   ],
   "source": [
    "check_prob(X)"
   ],
   "metadata": {
    "collapsed": false,
    "ExecuteTime": {
     "end_time": "2024-02-20T14:34:32.996498700Z",
     "start_time": "2024-02-20T14:34:32.984845200Z"
    }
   },
   "id": "20f9190ece6fcb24",
   "execution_count": 103
  },
  {
   "cell_type": "code",
   "outputs": [
    {
     "data": {
      "text/plain": "<Figure size 1000x600 with 1 Axes>",
      "image/png": "[encoded data removed]"
     },
     "metadata": {},
     "output_type": "display_data"
    }
   ],
   "source": [
    "plot_prob(X)"
   ],
   "metadata": {
    "collapsed": false,
    "ExecuteTime": {
     "end_time": "2024-02-20T14:34:33.447712900Z",
     "start_time": "2024-02-20T14:34:33.356301700Z"
    }
   },
   "id": "1c6f020c9c3eb433",
   "execution_count": 104
  },
  {
   "cell_type": "code",
   "outputs": [],
   "source": [],
   "metadata": {
    "collapsed": false,
    "ExecuteTime": {
     "end_time": "2024-02-20T07:12:49.241341Z",
     "start_time": "2024-02-20T07:12:49.226957800Z"
    }
   },
   "id": "97eabb0269fc703e",
   "execution_count": 23
  },
  {
   "cell_type": "code",
   "outputs": [],
   "source": [],
   "metadata": {
    "collapsed": false
   },
   "id": "1ee332c46e507d0b"
  }
 ],
 "metadata": {
  "kernelspec": {
   "display_name": "Python 3",
   "language": "python",
   "name": "python3"
  },
  "language_info": {
   "codemirror_mode": {
    "name": "ipython",
    "version": 2
   },
   "file_extension": ".py",
   "mimetype": "text/x-python",
   "name": "python",
   "nbconvert_exporter": "python",
   "pygments_lexer": "ipython2",
   "version": "2.7.6"
  }
 },
 "nbformat": 4,
 "nbformat_minor": 5
}
