{
 "cells": [
  {
   "cell_type": "markdown",
   "source": [
    "# chatper 05. 이산형 확률변수"
   ],
   "metadata": {
    "collapsed": false
   },
   "id": "eaf4f7a4b82992ae"
  },
  {
   "cell_type": "markdown",
   "source": [
    "## 5.1 1차원 이산형 확률변수"
   ],
   "metadata": {
    "collapsed": false
   },
   "id": "9b1755506fe8d212"
  },
  {
   "cell_type": "code",
   "outputs": [
    {
     "data": {
      "text/plain": "'%.3f'"
     },
     "execution_count": 1,
     "metadata": {},
     "output_type": "execute_result"
    }
   ],
   "source": [
    "import pandas as pd\n",
    "import numpy as np\n",
    "\n",
    "%precision 3"
   ],
   "metadata": {
    "collapsed": false,
    "ExecuteTime": {
     "end_time": "2024-02-20T08:16:56.678819100Z",
     "start_time": "2024-02-20T08:16:56.051126Z"
    }
   },
   "id": "893b03444d0951ec",
   "execution_count": 1
  },
  {
   "cell_type": "code",
   "outputs": [],
   "source": [
    "# 확률변수가 취할 수 있는 값의 집합\n",
    "x_set = np.array([1, 2, 3,  4, 5, 6])"
   ],
   "metadata": {
    "collapsed": false,
    "ExecuteTime": {
     "end_time": "2024-02-20T08:16:56.680813100Z",
     "start_time": "2024-02-20T08:16:56.663911600Z"
    }
   },
   "id": "139468f00bcabce4",
   "execution_count": 2
  },
  {
   "cell_type": "code",
   "outputs": [],
   "source": [
    "def f(x):\n",
    "    if x in x_set:\n",
    "        return x / 21\n",
    "    else:\n",
    "        return 0"
   ],
   "metadata": {
    "collapsed": false,
    "ExecuteTime": {
     "end_time": "2024-02-20T08:16:56.690965100Z",
     "start_time": "2024-02-20T08:16:56.666967100Z"
    }
   },
   "id": "678afaed5ea7d313",
   "execution_count": 3
  },
  {
   "cell_type": "code",
   "outputs": [],
   "source": [
    "# 확률변수 X 정의\n",
    "X = [x_set, f]"
   ],
   "metadata": {
    "collapsed": false,
    "ExecuteTime": {
     "end_time": "2024-02-20T08:16:56.732267500Z",
     "start_time": "2024-02-20T08:16:56.676496200Z"
    }
   },
   "id": "f9c8ed65b815d1bc",
   "execution_count": 4
  },
  {
   "cell_type": "code",
   "outputs": [
    {
     "data": {
      "text/plain": "{1: 0.048, 2: 0.095, 3: 0.143, 4: 0.190, 5: 0.238, 6: 0.286}"
     },
     "execution_count": 5,
     "metadata": {},
     "output_type": "execute_result"
    }
   ],
   "source": [
    "# 확률 p_k를 구한다\n",
    "prob = np.array([f(x_k) for x_k in x_set])\n",
    "# x_k와 p_k의 대응을 딕셔너리로 표시\n",
    "dict(zip(x_set, prob))"
   ],
   "metadata": {
    "collapsed": false,
    "ExecuteTime": {
     "end_time": "2024-02-20T08:16:56.747599500Z",
     "start_time": "2024-02-20T08:16:56.680813100Z"
    }
   },
   "id": "3a36a1f5dee9ceb2",
   "execution_count": 5
  },
  {
   "cell_type": "code",
   "outputs": [
    {
     "data": {
      "text/plain": "<Figure size 1000x600 with 1 Axes>",
      "image/png": "[encoded data removed]"
     },
     "metadata": {},
     "output_type": "display_data"
    }
   ],
   "source": [
    "# 확률변수가 취할 수 있는 값과 확률의 대응을 막대그래프로 표시\n",
    "import matplotlib.pyplot as plt\n",
    "\n",
    "fig = plt.figure(figsize=(10, 6))\n",
    "ax = fig.add_subplot(111)   # <class 'matplotlib.axes._axes.Axes'>\n",
    "ax.bar(x_set, prob)\n",
    "ax.set_xlabel('value')\n",
    "ax.set_ylabel('probability')\n",
    "plt.show()"
   ],
   "metadata": {
    "collapsed": false,
    "ExecuteTime": {
     "end_time": "2024-02-20T08:16:57.188669600Z",
     "start_time": "2024-02-20T08:16:56.689908900Z"
    }
   },
   "id": "1dcc02c8dd2ec729",
   "execution_count": 6
  },
  {
   "cell_type": "code",
   "outputs": [
    {
     "data": {
      "text/plain": "True"
     },
     "execution_count": 7,
     "metadata": {},
     "output_type": "execute_result"
    }
   ],
   "source": [
    "# np.all 함수 : 모든 요소가 참일 때만 참을 반환\n",
    "np.all(prob >= 0)"
   ],
   "metadata": {
    "collapsed": false,
    "ExecuteTime": {
     "end_time": "2024-02-20T08:16:57.194699400Z",
     "start_time": "2024-02-20T08:16:57.189666900Z"
    }
   },
   "id": "f3417a54b1162423",
   "execution_count": 7
  },
  {
   "cell_type": "code",
   "outputs": [
    {
     "data": {
      "text/plain": "1.000"
     },
     "execution_count": 8,
     "metadata": {},
     "output_type": "execute_result"
    }
   ],
   "source": [
    "# np.sum 함수 : 모든 요소의 합을 반환\n",
    "np.sum(prob)"
   ],
   "metadata": {
    "collapsed": false,
    "ExecuteTime": {
     "end_time": "2024-02-20T08:16:57.218091900Z",
     "start_time": "2024-02-20T08:16:57.195696100Z"
    }
   },
   "id": "11be2ff89e1dee9f",
   "execution_count": 8
  },
  {
   "cell_type": "code",
   "outputs": [],
   "source": [
    "# 누적분포함수 (cumulative distribution function, CDF)\n",
    "def F(x):\n",
    "    return np.sum([f(x_k) for x_k in x_set if x_k <= x])"
   ],
   "metadata": {
    "collapsed": false,
    "ExecuteTime": {
     "end_time": "2024-02-20T08:16:57.219593700Z",
     "start_time": "2024-02-20T08:16:57.202601300Z"
    }
   },
   "id": "7babf3fce1cdace9",
   "execution_count": 9
  },
  {
   "cell_type": "code",
   "outputs": [
    {
     "data": {
      "text/plain": "0.286"
     },
     "execution_count": 10,
     "metadata": {},
     "output_type": "execute_result"
    }
   ],
   "source": [
    "# 눈이 3 이하가 되는 확률\n",
    "F(3)    # 소수점 세자리 까지만 출력된다."
   ],
   "metadata": {
    "collapsed": false,
    "ExecuteTime": {
     "end_time": "2024-02-20T08:16:57.335013500Z",
     "start_time": "2024-02-20T08:16:57.208623Z"
    }
   },
   "id": "7f846a9ac9a4445e",
   "execution_count": 10
  },
  {
   "cell_type": "code",
   "outputs": [
    {
     "data": {
      "text/plain": "{5: 0.048, 7: 0.095, 9: 0.143, 11: 0.190, 13: 0.238, 15: 0.286}"
     },
     "execution_count": 11,
     "metadata": {},
     "output_type": "execute_result"
    }
   ],
   "source": [
    "# 확률변수 Y = 2X + 3\n",
    "y_set = np.array([2 * x_k + 3 for x_k in x_set])\n",
    "prob = np.array([f(x_k) for x_k in x_set])\n",
    "dict(zip(y_set, prob))"
   ],
   "metadata": {
    "collapsed": false,
    "ExecuteTime": {
     "end_time": "2024-02-20T08:16:57.385070800Z",
     "start_time": "2024-02-20T08:16:57.214504Z"
    }
   },
   "id": "e7d794fab00a9f9f",
   "execution_count": 11
  },
  {
   "cell_type": "markdown",
   "source": [
    "#### 5.1.2 1차원 이산형 확률변수의 지표"
   ],
   "metadata": {
    "collapsed": false
   },
   "id": "af75f5c1d38d122b"
  },
  {
   "cell_type": "code",
   "outputs": [
    {
     "data": {
      "text/plain": "4.333"
     },
     "execution_count": 12,
     "metadata": {},
     "output_type": "execute_result"
    }
   ],
   "source": [
    "# 불공정한 주사위의 기대값\n",
    "np.sum([x_k * f(x_k) for x_k in x_set])"
   ],
   "metadata": {
    "collapsed": false,
    "ExecuteTime": {
     "end_time": "2024-02-20T08:16:57.387461400Z",
     "start_time": "2024-02-20T08:16:57.222010200Z"
    }
   },
   "id": "29a4db695fe51fe6",
   "execution_count": 12
  },
  {
   "cell_type": "code",
   "outputs": [
    {
     "data": {
      "text/plain": "4.333"
     },
     "execution_count": 13,
     "metadata": {},
     "output_type": "execute_result"
    }
   ],
   "source": [
    "# 불공정 주사위 100만 번 굴려서 얻은 실행값의 평균\n",
    "sample = np.random.choice(x_set, int(1e6), p=prob)\n",
    "np.mean(sample)"
   ],
   "metadata": {
    "collapsed": false,
    "ExecuteTime": {
     "end_time": "2024-02-20T08:16:57.454437200Z",
     "start_time": "2024-02-20T08:16:57.234958400Z"
    }
   },
   "id": "d2756dbc50da52e4",
   "execution_count": 13
  },
  {
   "cell_type": "code",
   "outputs": [],
   "source": [
    "# 기대값 구하는 함수\n",
    "def E(X, g=lambda x: x):\n",
    "    x_set, f = X    # 언패킹\n",
    "    return np.sum([g(x_k) * f(x_k) for x_k in x_set])"
   ],
   "metadata": {
    "collapsed": false,
    "ExecuteTime": {
     "end_time": "2024-02-20T08:16:57.455434100Z",
     "start_time": "2024-02-20T08:16:57.278232500Z"
    }
   },
   "id": "7a40b6f289740748",
   "execution_count": 14
  },
  {
   "cell_type": "code",
   "outputs": [
    {
     "data": {
      "text/plain": "4.333"
     },
     "execution_count": 15,
     "metadata": {},
     "output_type": "execute_result"
    }
   ],
   "source": [
    "E(X)"
   ],
   "metadata": {
    "collapsed": false,
    "ExecuteTime": {
     "end_time": "2024-02-20T08:16:57.457658200Z",
     "start_time": "2024-02-20T08:16:57.282278500Z"
    }
   },
   "id": "44e7631b69afee99",
   "execution_count": 15
  },
  {
   "cell_type": "code",
   "outputs": [
    {
     "data": {
      "text/plain": "11.667"
     },
     "execution_count": 16,
     "metadata": {},
     "output_type": "execute_result"
    }
   ],
   "source": [
    "# 확률변수 Y = 2X + 3 의 기대값\n",
    "E(X, g=lambda x: 2*x + 3)"
   ],
   "metadata": {
    "collapsed": false,
    "ExecuteTime": {
     "end_time": "2024-02-20T08:16:57.458679900Z",
     "start_time": "2024-02-20T08:16:57.288879Z"
    }
   },
   "id": "3adc857ae67a825c",
   "execution_count": 16
  },
  {
   "cell_type": "code",
   "outputs": [
    {
     "data": {
      "text/plain": "11.667"
     },
     "execution_count": 17,
     "metadata": {},
     "output_type": "execute_result"
    }
   ],
   "source": [
    "2 * E(X) + 3"
   ],
   "metadata": {
    "collapsed": false,
    "ExecuteTime": {
     "end_time": "2024-02-20T08:16:57.476877800Z",
     "start_time": "2024-02-20T08:16:57.295810900Z"
    }
   },
   "id": "f9e75506b2596baf",
   "execution_count": 17
  },
  {
   "cell_type": "code",
   "outputs": [
    {
     "data": {
      "text/plain": "2.222"
     },
     "execution_count": 18,
     "metadata": {},
     "output_type": "execute_result"
    }
   ],
   "source": [
    "# 분산 구하기\n",
    "mean = E(X)\n",
    "np.sum([(x_k - mean)**2 * f(x_k) for x_k in x_set]) # 편차 제곱의 합"
   ],
   "metadata": {
    "collapsed": false,
    "ExecuteTime": {
     "end_time": "2024-02-20T08:16:57.479120100Z",
     "start_time": "2024-02-20T08:16:57.310421300Z"
    }
   },
   "id": "8d9a03ab730eba04",
   "execution_count": 18
  },
  {
   "cell_type": "code",
   "outputs": [],
   "source": [
    "# 분산 구하는 함수\n",
    "def V(X, g=lambda x: x):\n",
    "    x_set, f = X\n",
    "    mean = E(X, g)\n",
    "    return np.sum([(g(x_k)-mean)**2 * f(x_k) for x_k in x_set])"
   ],
   "metadata": {
    "collapsed": false,
    "ExecuteTime": {
     "end_time": "2024-02-20T08:16:57.480237800Z",
     "start_time": "2024-02-20T08:16:57.316419400Z"
    }
   },
   "id": "f174eaf12af6a41b",
   "execution_count": 19
  },
  {
   "cell_type": "code",
   "outputs": [
    {
     "data": {
      "text/plain": "2.222"
     },
     "execution_count": 20,
     "metadata": {},
     "output_type": "execute_result"
    }
   ],
   "source": [
    "# g를 지정하지 않을 시, 확률변수 X의 분산을 계산\n",
    "V(X)"
   ],
   "metadata": {
    "collapsed": false,
    "ExecuteTime": {
     "end_time": "2024-02-20T08:16:57.481359400Z",
     "start_time": "2024-02-20T08:16:57.319879800Z"
    }
   },
   "id": "f43089fd996f6b2f",
   "execution_count": 20
  },
  {
   "cell_type": "code",
   "outputs": [
    {
     "data": {
      "text/plain": "8.889"
     },
     "execution_count": 21,
     "metadata": {},
     "output_type": "execute_result"
    }
   ],
   "source": [
    "# 확률변수 Y = 2X + 3의 분산\n",
    "V(X, lambda x: 2*x+3)"
   ],
   "metadata": {
    "collapsed": false,
    "ExecuteTime": {
     "end_time": "2024-02-20T08:16:57.498826300Z",
     "start_time": "2024-02-20T08:16:57.326940400Z"
    }
   },
   "id": "a5b9fe98c2fa8c3",
   "execution_count": 21
  },
  {
   "cell_type": "code",
   "outputs": [
    {
     "data": {
      "text/plain": "8.889"
     },
     "execution_count": 22,
     "metadata": {},
     "output_type": "execute_result"
    }
   ],
   "source": [
    "# 분산의 공식\n",
    "# V(aX + b) = a*aV(X)\n",
    "2**2 * V(X)"
   ],
   "metadata": {
    "collapsed": false,
    "ExecuteTime": {
     "end_time": "2024-02-20T08:16:57.520424700Z",
     "start_time": "2024-02-20T08:16:57.335013500Z"
    }
   },
   "id": "a606d7b137b5ade4",
   "execution_count": 22
  },
  {
   "cell_type": "markdown",
   "source": [
    "## 5.2 2차원 이산형 확률변수"
   ],
   "metadata": {
    "collapsed": false
   },
   "id": "fe68b134ee8e0421"
  },
  {
   "cell_type": "code",
   "outputs": [],
   "source": [
    "# 확률변수 X : 불공정한 주사위 A, B 눈의 합\n",
    "# 확률변수 Y : 불공정한 주사위 A 눈\n",
    "x_set = np.arange(2, 13)    # [ 2  3  4  5  6  7  8  9 10 11 12\n",
    "y_set = np.arange(1, 7)     # [1 2 3 4 5 6]"
   ],
   "metadata": {
    "collapsed": false,
    "ExecuteTime": {
     "end_time": "2024-02-20T08:16:57.522417400Z",
     "start_time": "2024-02-20T08:16:57.341256300Z"
    }
   },
   "id": "432e214bad8fe0c9",
   "execution_count": 23
  },
  {
   "cell_type": "code",
   "outputs": [],
   "source": [
    "# 결합확률함수\n",
    "def f_XY(x, y):\n",
    "    if 1 <= y <= 6 and 1 <= x-y <= 6:\n",
    "        return y * (x-y) / 441\n",
    "    else:\n",
    "        return 0"
   ],
   "metadata": {
    "collapsed": false,
    "ExecuteTime": {
     "end_time": "2024-02-20T08:16:57.523413800Z",
     "start_time": "2024-02-20T08:16:57.346520900Z"
    }
   },
   "id": "3e6fdc75b80b60e7",
   "execution_count": 24
  },
  {
   "cell_type": "code",
   "outputs": [],
   "source": [
    "# 확률변수 (X, Y)의 움직임\n",
    "XY = [x_set, y_set, f_XY]"
   ],
   "metadata": {
    "collapsed": false,
    "ExecuteTime": {
     "end_time": "2024-02-20T08:16:57.524410600Z",
     "start_time": "2024-02-20T08:16:57.352220100Z"
    }
   },
   "id": "8c75f40ea4d5da43",
   "execution_count": 25
  },
  {
   "cell_type": "code",
   "outputs": [
    {
     "data": {
      "text/plain": "<Figure size 1000x800 with 2 Axes>",
      "image/png": "[encoded data removed]"
     },
     "metadata": {},
     "output_type": "display_data"
    }
   ],
   "source": [
    "# 확률분포를 히트맵으로 그리기\n",
    "prob = np.array([[f_XY(x_i, y_j) for y_j in y_set] for x_i in x_set])\n",
    "\n",
    "fig = plt.figure(figsize=(10, 8))\n",
    "ax = fig.add_subplot(111)\n",
    "\n",
    "c = ax.pcolor(prob)\n",
    "ax.set_xticks(np.arange(prob.shape[1]) + 0.5, minor=False)\n",
    "ax.set_yticks(np.arange(prob.shape[0]) + 0.5, minor=False)\n",
    "ax.set_xticklabels(np.arange(1, 7), minor=False)\n",
    "ax.set_yticklabels(np.arange(2, 13), minor=False)\n",
    "# y축을 내림차순의 숫자가 되게 하여, 위 아래를 역전시킨다.\n",
    "ax.invert_yaxis()\n",
    "# x축 눈금을 그래프 위쪽에 표시\n",
    "ax.xaxis.tick_top()\n",
    "fig.colorbar(c, ax=ax)\n",
    "plt.show()"
   ],
   "metadata": {
    "collapsed": false,
    "ExecuteTime": {
     "end_time": "2024-02-20T08:18:45.035215Z",
     "start_time": "2024-02-20T08:18:44.864734600Z"
    }
   },
   "id": "a74eecf056049164",
   "execution_count": 50
  },
  {
   "cell_type": "code",
   "outputs": [
    {
     "data": {
      "text/plain": "True"
     },
     "execution_count": 27,
     "metadata": {},
     "output_type": "execute_result"
    }
   ],
   "source": [
    "# 확률이 반드시 0 이상인지 확인\n",
    "np.all(prob >= 0)"
   ],
   "metadata": {
    "collapsed": false,
    "ExecuteTime": {
     "end_time": "2024-02-20T08:16:57.767148500Z",
     "start_time": "2024-02-20T08:16:57.563324200Z"
    }
   },
   "id": "14363bc82e52d9b5",
   "execution_count": 27
  },
  {
   "cell_type": "code",
   "outputs": [
    {
     "data": {
      "text/plain": "1.000"
     },
     "execution_count": 28,
     "metadata": {},
     "output_type": "execute_result"
    }
   ],
   "source": [
    "# 확률의 총합이 1인지 확인\n",
    "np.sum(prob)"
   ],
   "metadata": {
    "collapsed": false,
    "ExecuteTime": {
     "end_time": "2024-02-20T08:16:57.768271900Z",
     "start_time": "2024-02-20T08:16:57.571257900Z"
    }
   },
   "id": "62fcfca4d23eaf92",
   "execution_count": 28
  },
  {
   "cell_type": "code",
   "outputs": [],
   "source": [
    "# 주변확률분포 (marginal probability distribution)\n",
    "def f_X(x):\n",
    "    # X의 주변확룰분포\n",
    "    return np.sum([f_XY(x, y_k) for y_k in y_set])\n",
    "\n",
    "def f_Y(y):\n",
    "    # Y의 주변확률분포\n",
    "    return np.sum([f_XY(x_k, y) for x_k in x_set])"
   ],
   "metadata": {
    "collapsed": false,
    "ExecuteTime": {
     "end_time": "2024-02-20T08:16:57.781327300Z",
     "start_time": "2024-02-20T08:16:57.577395400Z"
    }
   },
   "id": "36b478d305908bf1",
   "execution_count": 29
  },
  {
   "cell_type": "code",
   "outputs": [],
   "source": [
    "X = [x_set, f_X]\n",
    "Y = [y_set, f_Y]"
   ],
   "metadata": {
    "collapsed": false,
    "ExecuteTime": {
     "end_time": "2024-02-20T08:16:57.783546900Z",
     "start_time": "2024-02-20T08:16:57.583136Z"
    }
   },
   "id": "c6e9862defefd801",
   "execution_count": 30
  },
  {
   "cell_type": "code",
   "outputs": [
    {
     "data": {
      "text/plain": "<Figure size 1200x400 with 2 Axes>",
      "image/png": "[encoded data removed]"
     },
     "metadata": {},
     "output_type": "display_data"
    }
   ],
   "source": [
    "# X의 확률분포, Y의 확률분포\n",
    "prob_x = np.array([f_X(x_k) for x_k in x_set])\n",
    "prob_y = np.array([f_Y(y_k) for y_k in y_set])\n",
    "\n",
    "fig = plt.figure(figsize=(12, 4))\n",
    "ax1 = fig.add_subplot(121)\n",
    "ax2 = fig.add_subplot(122)\n",
    "\n",
    "ax1.bar(x_set, prob_x)\n",
    "ax1.set_title(\"X_marginal probability distribution\")\n",
    "ax1.set_xlabel('X_value')\n",
    "ax1.set_ylabel('probability')\n",
    "ax1.set_xticks(x_set)\n",
    "\n",
    "ax2.bar(y_set, prob_y)\n",
    "ax2.set_title(\"/y_marginal probability distribution\")\n",
    "ax1.set_xlabel('X_value')\n",
    "ax1.set_ylabel('probability')\n",
    "\n",
    "plt.show()"
   ],
   "metadata": {
    "collapsed": false,
    "ExecuteTime": {
     "end_time": "2024-02-20T08:16:58.016757900Z",
     "start_time": "2024-02-20T08:16:57.586738100Z"
    }
   },
   "id": "d6076bfb0c751919",
   "execution_count": 31
  },
  {
   "cell_type": "markdown",
   "source": [
    "#### 5.2.2 2차원 이산형 확률변수의 지표"
   ],
   "metadata": {
    "collapsed": false
   },
   "id": "d82494c4bd0f69f7"
  },
  {
   "cell_type": "code",
   "outputs": [
    {
     "data": {
      "text/plain": "8.667"
     },
     "execution_count": 32,
     "metadata": {},
     "output_type": "execute_result"
    }
   ],
   "source": [
    "np.sum([x_i * f_XY(x_i, y_j) for x_i in x_set for y_j in y_set])"
   ],
   "metadata": {
    "collapsed": false,
    "ExecuteTime": {
     "end_time": "2024-02-20T08:16:58.018926200Z",
     "start_time": "2024-02-20T08:16:57.890435500Z"
    }
   },
   "id": "55ae16afde5a3114",
   "execution_count": 32
  },
  {
   "cell_type": "code",
   "outputs": [],
   "source": [
    "def E(XY, g):\n",
    "    x_set, y_set, f_XY = XY\n",
    "    return np.sum([g(x_i, y_j) * f_XY(x_i, y_j) for x_i in x_set for y_j in y_set])"
   ],
   "metadata": {
    "collapsed": false,
    "ExecuteTime": {
     "end_time": "2024-02-20T08:16:58.020077300Z",
     "start_time": "2024-02-20T08:16:57.890435500Z"
    }
   },
   "id": "52958b68b03e979f",
   "execution_count": 33
  },
  {
   "cell_type": "code",
   "outputs": [
    {
     "data": {
      "text/plain": "8.667"
     },
     "execution_count": 34,
     "metadata": {},
     "output_type": "execute_result"
    }
   ],
   "source": [
    "mean_X = E(XY, lambda x, y: x)\n",
    "mean_X"
   ],
   "metadata": {
    "collapsed": false,
    "ExecuteTime": {
     "end_time": "2024-02-20T08:16:58.045385900Z",
     "start_time": "2024-02-20T08:16:57.893220300Z"
    }
   },
   "id": "9f42f7a0054d4f29",
   "execution_count": 34
  },
  {
   "cell_type": "code",
   "outputs": [
    {
     "data": {
      "text/plain": "4.333"
     },
     "execution_count": 35,
     "metadata": {},
     "output_type": "execute_result"
    }
   ],
   "source": [
    "mean_Y = E(XY, lambda x, y :y)\n",
    "mean_Y"
   ],
   "metadata": {
    "collapsed": false,
    "ExecuteTime": {
     "end_time": "2024-02-20T08:16:58.047378700Z",
     "start_time": "2024-02-20T08:16:57.899241300Z"
    }
   },
   "id": "6541233be4e0e82",
   "execution_count": 35
  },
  {
   "cell_type": "code",
   "outputs": [],
   "source": [
    "a, b = 2, 3"
   ],
   "metadata": {
    "collapsed": false,
    "ExecuteTime": {
     "end_time": "2024-02-20T08:16:58.048376Z",
     "start_time": "2024-02-20T08:16:57.906555Z"
    }
   },
   "id": "f224c3c254e5b23",
   "execution_count": 36
  },
  {
   "cell_type": "code",
   "outputs": [
    {
     "data": {
      "text/plain": "30.333"
     },
     "execution_count": 37,
     "metadata": {},
     "output_type": "execute_result"
    }
   ],
   "source": [
    "# E(2X + 3)\n",
    "E(XY, lambda x, y: a*x +b*y)"
   ],
   "metadata": {
    "collapsed": false,
    "ExecuteTime": {
     "end_time": "2024-02-20T08:16:58.160999300Z",
     "start_time": "2024-02-20T08:16:57.910677600Z"
    }
   },
   "id": "c30fcd5b441bacd",
   "execution_count": 37
  },
  {
   "cell_type": "code",
   "outputs": [
    {
     "data": {
      "text/plain": "30.333"
     },
     "execution_count": 38,
     "metadata": {},
     "output_type": "execute_result"
    }
   ],
   "source": [
    "# 2*E(X) + 3\n",
    "a * mean_X + b * mean_Y"
   ],
   "metadata": {
    "collapsed": false,
    "ExecuteTime": {
     "end_time": "2024-02-20T08:16:58.161995700Z",
     "start_time": "2024-02-20T08:16:57.917630800Z"
    }
   },
   "id": "fd45caa3d1faa2d1",
   "execution_count": 38
  },
  {
   "cell_type": "code",
   "outputs": [
    {
     "data": {
      "text/plain": "4.444"
     },
     "execution_count": 39,
     "metadata": {},
     "output_type": "execute_result"
    }
   ],
   "source": [
    "# 분산\n",
    "np.sum([(x_i - mean_X)**2 * f_XY(x_i, y_j) for x_i in x_set for y_j in y_set])"
   ],
   "metadata": {
    "collapsed": false,
    "ExecuteTime": {
     "end_time": "2024-02-20T08:16:58.162992Z",
     "start_time": "2024-02-20T08:16:57.923874100Z"
    }
   },
   "id": "78360e1420f59621",
   "execution_count": 39
  },
  {
   "cell_type": "code",
   "outputs": [],
   "source": [
    "def V(XY, g):\n",
    "    x_set, y_set, f_XY = XY\n",
    "    mean = E(XY, g)\n",
    "    return np.sum([(g(x_i, y_j)-mean)**2 * f_XY(x_i, y_j) for x_i in x_set for y_j in y_set])"
   ],
   "metadata": {
    "collapsed": false,
    "ExecuteTime": {
     "end_time": "2024-02-20T08:16:58.163988800Z",
     "start_time": "2024-02-20T08:16:57.931786900Z"
    }
   },
   "id": "b7cf4c21b909ed99",
   "execution_count": 40
  },
  {
   "cell_type": "code",
   "outputs": [
    {
     "data": {
      "text/plain": "4.444"
     },
     "execution_count": 41,
     "metadata": {},
     "output_type": "execute_result"
    }
   ],
   "source": [
    "var_X = V(XY, g=lambda x, y: x)\n",
    "var_X"
   ],
   "metadata": {
    "collapsed": false,
    "ExecuteTime": {
     "end_time": "2024-02-20T08:16:58.164985600Z",
     "start_time": "2024-02-20T08:16:57.936492200Z"
    }
   },
   "id": "aec6557a80321b1c",
   "execution_count": 41
  },
  {
   "cell_type": "code",
   "outputs": [
    {
     "data": {
      "text/plain": "2.222"
     },
     "execution_count": 42,
     "metadata": {},
     "output_type": "execute_result"
    }
   ],
   "source": [
    "var_Y = V(XY, g=lambda x, y: y)\n",
    "var_Y"
   ],
   "metadata": {
    "collapsed": false,
    "ExecuteTime": {
     "end_time": "2024-02-20T08:16:58.165982Z",
     "start_time": "2024-02-20T08:16:57.942386Z"
    }
   },
   "id": "827b242b59d3cf38",
   "execution_count": 42
  },
  {
   "cell_type": "code",
   "outputs": [],
   "source": [
    "# 공분산\n",
    "def Cov(XY):\n",
    "    x_set, y_set, f_XY = XY\n",
    "    mean_X = E(XY, lambda x, y: x)\n",
    "    mean_Y = E(XY, lambda x, y: y)\n",
    "    return np.sum([(x_i - mean_X) * (y_j - mean_Y) * f_XY(x_i, y_j) for x_i in x_set for y_j in y_set])"
   ],
   "metadata": {
    "collapsed": false,
    "ExecuteTime": {
     "end_time": "2024-02-20T08:16:58.185915700Z",
     "start_time": "2024-02-20T08:16:57.949664200Z"
    }
   },
   "id": "62360e650db6b433",
   "execution_count": 43
  },
  {
   "cell_type": "code",
   "outputs": [
    {
     "data": {
      "text/plain": "2.222"
     },
     "execution_count": 44,
     "metadata": {},
     "output_type": "execute_result"
    }
   ],
   "source": [
    "cov_xy = Cov(XY)\n",
    "cov_xy"
   ],
   "metadata": {
    "collapsed": false,
    "ExecuteTime": {
     "end_time": "2024-02-20T08:16:58.186912700Z",
     "start_time": "2024-02-20T08:16:57.954576700Z"
    }
   },
   "id": "3611d35616423092",
   "execution_count": 44
  },
  {
   "cell_type": "code",
   "outputs": [
    {
     "data": {
      "text/plain": "64.444"
     },
     "execution_count": 45,
     "metadata": {},
     "output_type": "execute_result"
    }
   ],
   "source": [
    "# V(2X+3Y)\n",
    "V(XY, lambda x, y: a*x + b*y)"
   ],
   "metadata": {
    "collapsed": false,
    "ExecuteTime": {
     "end_time": "2024-02-20T08:16:58.187908900Z",
     "start_time": "2024-02-20T08:16:57.963551900Z"
    }
   },
   "id": "5557fd242e2236fb",
   "execution_count": 45
  },
  {
   "cell_type": "code",
   "outputs": [
    {
     "data": {
      "text/plain": "64.444"
     },
     "execution_count": 46,
     "metadata": {},
     "output_type": "execute_result"
    }
   ],
   "source": [
    "# 4V(X) + 9V(Y) + 2*2*3*Cov(X, Y)\n",
    "a**2 * var_X + b**2 * var_Y + 2*a*b * cov_xy"
   ],
   "metadata": {
    "collapsed": false,
    "ExecuteTime": {
     "end_time": "2024-02-20T08:16:58.188905600Z",
     "start_time": "2024-02-20T08:16:57.968976500Z"
    }
   },
   "id": "6d9395fdb8d5c305",
   "execution_count": 46
  },
  {
   "cell_type": "code",
   "outputs": [
    {
     "data": {
      "text/plain": "0.707"
     },
     "execution_count": 47,
     "metadata": {},
     "output_type": "execute_result"
    }
   ],
   "source": [
    "# 상관계수\n",
    "cov_xy / (np.sqrt(var_X) * np.sqrt(var_Y))"
   ],
   "metadata": {
    "collapsed": false,
    "ExecuteTime": {
     "end_time": "2024-02-20T08:16:58.207843300Z",
     "start_time": "2024-02-20T08:16:57.975532500Z"
    }
   },
   "id": "3ecd470924abfb33",
   "execution_count": 47
  },
  {
   "cell_type": "code",
   "outputs": [],
   "source": [],
   "metadata": {
    "collapsed": false,
    "ExecuteTime": {
     "end_time": "2024-02-20T08:16:58.208839400Z",
     "start_time": "2024-02-20T08:16:57.981449100Z"
    }
   },
   "id": "2c33e131351902de",
   "execution_count": 47
  }
 ],
 "metadata": {
  "kernelspec": {
   "display_name": "Python 3",
   "language": "python",
   "name": "python3"
  },
  "language_info": {
   "codemirror_mode": {
    "name": "ipython",
    "version": 2
   },
   "file_extension": ".py",
   "mimetype": "text/x-python",
   "name": "python",
   "nbconvert_exporter": "python",
   "pygments_lexer": "ipython2",
   "version": "2.7.6"
  }
 },
 "nbformat": 4,
 "nbformat_minor": 5
}
