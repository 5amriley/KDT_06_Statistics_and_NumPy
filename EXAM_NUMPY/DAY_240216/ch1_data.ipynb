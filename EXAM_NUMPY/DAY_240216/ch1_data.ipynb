{
 "cells": [
  {
   "cell_type": "code",
   "execution_count": 1,
   "id": "initial_id",
   "metadata": {
    "collapsed": true,
    "ExecuteTime": {
     "end_time": "2024-02-16T04:43:11.026015800Z",
     "start_time": "2024-02-16T04:43:10.313448300Z"
    }
   },
   "outputs": [],
   "source": [
    "import pandas as pd"
   ]
  },
  {
   "cell_type": "code",
   "outputs": [
    {
     "data": {
      "text/plain": "      학년    악력  윗몸일으키기  점수  순위\n학생번호                          \n1      1  40.2      34  15   4\n2      1  34.2      14   7  10\n3      1  28.8      27  11   7\n4      2  39.0      27  14   5\n5      2  50.9      32  17   2\n6      2  36.5      20   9   9\n7      3  36.6      31  13   6\n8      3  49.2      37  18   1\n9      3  26.0      28  10   8\n10     3  47.4      32  16   3",
      "text/html": "<div>\n<style scoped>\n    .dataframe tbody tr th:only-of-type {\n        vertical-align: middle;\n    }\n\n    .dataframe tbody tr th {\n        vertical-align: top;\n    }\n\n    .dataframe thead th {\n        text-align: right;\n    }\n</style>\n<table border=\"1\" class=\"dataframe\">\n  <thead>\n    <tr style=\"text-align: right;\">\n      <th></th>\n      <th>학년</th>\n      <th>악력</th>\n      <th>윗몸일으키기</th>\n      <th>점수</th>\n      <th>순위</th>\n    </tr>\n    <tr>\n      <th>학생번호</th>\n      <th></th>\n      <th></th>\n      <th></th>\n      <th></th>\n      <th></th>\n    </tr>\n  </thead>\n  <tbody>\n    <tr>\n      <th>1</th>\n      <td>1</td>\n      <td>40.2</td>\n      <td>34</td>\n      <td>15</td>\n      <td>4</td>\n    </tr>\n    <tr>\n      <th>2</th>\n      <td>1</td>\n      <td>34.2</td>\n      <td>14</td>\n      <td>7</td>\n      <td>10</td>\n    </tr>\n    <tr>\n      <th>3</th>\n      <td>1</td>\n      <td>28.8</td>\n      <td>27</td>\n      <td>11</td>\n      <td>7</td>\n    </tr>\n    <tr>\n      <th>4</th>\n      <td>2</td>\n      <td>39.0</td>\n      <td>27</td>\n      <td>14</td>\n      <td>5</td>\n    </tr>\n    <tr>\n      <th>5</th>\n      <td>2</td>\n      <td>50.9</td>\n      <td>32</td>\n      <td>17</td>\n      <td>2</td>\n    </tr>\n    <tr>\n      <th>6</th>\n      <td>2</td>\n      <td>36.5</td>\n      <td>20</td>\n      <td>9</td>\n      <td>9</td>\n    </tr>\n    <tr>\n      <th>7</th>\n      <td>3</td>\n      <td>36.6</td>\n      <td>31</td>\n      <td>13</td>\n      <td>6</td>\n    </tr>\n    <tr>\n      <th>8</th>\n      <td>3</td>\n      <td>49.2</td>\n      <td>37</td>\n      <td>18</td>\n      <td>1</td>\n    </tr>\n    <tr>\n      <th>9</th>\n      <td>3</td>\n      <td>26.0</td>\n      <td>28</td>\n      <td>10</td>\n      <td>8</td>\n    </tr>\n    <tr>\n      <th>10</th>\n      <td>3</td>\n      <td>47.4</td>\n      <td>32</td>\n      <td>16</td>\n      <td>3</td>\n    </tr>\n  </tbody>\n</table>\n</div>"
     },
     "execution_count": 2,
     "metadata": {},
     "output_type": "execute_result"
    }
   ],
   "source": [
    "df = pd.read_csv('../data/ch1_sport_test.csv', index_col='학생번호')\n",
    "df"
   ],
   "metadata": {
    "collapsed": false,
    "ExecuteTime": {
     "end_time": "2024-02-16T04:43:14.172411100Z",
     "start_time": "2024-02-16T04:43:14.142116300Z"
    }
   },
   "id": "ae334be9bc8558ee",
   "execution_count": 2
  },
  {
   "cell_type": "code",
   "outputs": [
    {
     "data": {
      "text/plain": "학생번호\n1     40.2\n2     34.2\n3     28.8\n4     39.0\n5     50.9\n6     36.5\n7     36.6\n8     49.2\n9     26.0\n10    47.4\nName: 악력, dtype: float64"
     },
     "execution_count": 3,
     "metadata": {},
     "output_type": "execute_result"
    }
   ],
   "source": [
    "df['악력']"
   ],
   "metadata": {
    "collapsed": false,
    "ExecuteTime": {
     "end_time": "2024-02-16T04:43:30.670068500Z",
     "start_time": "2024-02-16T04:43:30.650392400Z"
    }
   },
   "id": "a62d93201b8b8630",
   "execution_count": 3
  },
  {
   "cell_type": "code",
   "outputs": [
    {
     "data": {
      "text/plain": "(10, 5)"
     },
     "execution_count": 4,
     "metadata": {},
     "output_type": "execute_result"
    }
   ],
   "source": [
    "df.shape"
   ],
   "metadata": {
    "collapsed": false,
    "ExecuteTime": {
     "end_time": "2024-02-16T04:43:36.995544700Z",
     "start_time": "2024-02-16T04:43:36.983398600Z"
    }
   },
   "id": "d0c0f063f17112aa",
   "execution_count": 4
  },
  {
   "cell_type": "code",
   "outputs": [],
   "source": [],
   "metadata": {
    "collapsed": false
   },
   "id": "96128f496f092e0e"
  }
 ],
 "metadata": {
  "kernelspec": {
   "display_name": "Python 3",
   "language": "python",
   "name": "python3"
  },
  "language_info": {
   "codemirror_mode": {
    "name": "ipython",
    "version": 2
   },
   "file_extension": ".py",
   "mimetype": "text/x-python",
   "name": "python",
   "nbconvert_exporter": "python",
   "pygments_lexer": "ipython2",
   "version": "2.7.6"
  }
 },
 "nbformat": 4,
 "nbformat_minor": 5
}
